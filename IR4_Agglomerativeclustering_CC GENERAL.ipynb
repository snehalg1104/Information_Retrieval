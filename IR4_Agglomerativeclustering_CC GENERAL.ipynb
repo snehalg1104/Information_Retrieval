{
 "cells": [
  {
   "cell_type": "code",
   "execution_count": 2,
   "id": "ab551748",
   "metadata": {},
   "outputs": [],
   "source": [
    "import pandas as pd\n",
    "import numpy as np\n",
    "import matplotlib.pyplot as plt\n",
    "from sklearn.decomposition import PCA\n",
    "from sklearn.cluster import AgglomerativeClustering\n",
    "from sklearn.preprocessing import StandardScaler, normalize\n",
    "from sklearn.metrics import silhouette_score\n",
    "import scipy.cluster.hierarchy as shc\n"
   ]
  },
  {
   "cell_type": "code",
   "execution_count": 3,
   "id": "80eb07ca",
   "metadata": {},
   "outputs": [],
   "source": [
    "# Step 2: Loading and Cleaning the data\n",
    "X = pd.read_csv('CC GENERAL.csv')\n",
    "# Dropping the CUST_ID column from the data \n",
    "X = X.drop('CUST_ID', axis = 1)\n",
    "# Handling the missing values\n",
    "X.fillna(method ='ffill', inplace = True)"
   ]
  },
  {
   "cell_type": "code",
   "execution_count": 4,
   "id": "357e8f01",
   "metadata": {},
   "outputs": [],
   "source": [
    "# Step 3: Preprocessing the data\n",
    "# Scaling the data so that all the features become comparable \n",
    "scaler = StandardScaler()\n",
    "X_scaled = scaler.fit_transform(X)\n",
    "# Normalizing the data so that the data approximately # follows a Gaussian distribution\n",
    "X_normalized = normalize(X_scaled)\n",
    "# Converting the numpy array into a pandas DataFrame \n",
    "X_normalized = pd.DataFrame(X_normalized)"
   ]
  },
  {
   "cell_type": "code",
   "execution_count": 5,
   "id": "648e433a",
   "metadata": {},
   "outputs": [],
   "source": [
    "# Step 4: Reducing the dimensionality of the Data\n",
    "pca = PCA(n_components = 2)\n",
    "X_principal = pca.fit_transform(X_normalized) \n",
    "X_principal = pd.DataFrame(X_principal)\n",
    "X_principal.columns = ['P1', 'P2']"
   ]
  },
  {
   "cell_type": "code",
   "execution_count": null,
   "id": "a56667eb",
   "metadata": {},
   "outputs": [],
   "source": [
    "#Step 5: Dendrograms are used to divide a given cluster into many different clusters. Step 5: Visualizing the working of the Dendrograms\n",
    "plt.figure(figsize =(8, 8))\n",
    "plt.title('Visualising the data')\n",
    "Dendrogram = shc.dendrogram((shc.linkage(X_principal, method ='ward')))"
   ]
  },
  {
   "cell_type": "code",
   "execution_count": null,
   "id": "561f2e09",
   "metadata": {},
   "outputs": [],
   "source": [
    "# Step 6: Building and Visualizing the different clustering models for different values of k a) k = 2\n",
    "ac2 = AgglomerativeClustering(n_clusters = 2) \n",
    "# Visualizing the clustering\n",
    "plt.figure(figsize =(6, 6))\n",
    "plt.scatter(X_principal['P1'], X_principal['P2'],\n",
    "  c = ac2.fit_predict(X_principal), cmap ='rainbow') \n",
    "plt.show()\n",
    "ac3 = AgglomerativeClustering(n_clusters = 3)\n",
    "plt.figure(figsize =(6, 6)) \n",
    "plt.scatter(X_principal['P1'], X_principal['P2'],\n",
    "  c = ac3.fit_predict(X_principal), cmap ='rainbow')\n",
    "plt.show()\n",
    "ac4 = AgglomerativeClustering(n_clusters = 4)\n",
    "plt.figure(figsize =(6, 6)) \n",
    "plt.scatter(X_principal['P1'], X_principal['P2'],\n",
    "  c = ac4.fit_predict(X_principal), cmap ='rainbow') \n",
    "plt.show()\n",
    "ac5 = AgglomerativeClustering(n_clusters = 5)\n",
    "plt.figure(figsize =(6, 6)) \n",
    "plt.scatter(X_principal['P1'], X_principal['P2'],\n",
    "  c = ac5.fit_predict(X_principal), cmap ='rainbow')\n",
    "plt.show()\n",
    "ac6 = AgglomerativeClustering(n_clusters = 6)\n",
    "plt.figure(figsize =(6, 6)) \n",
    "plt.scatter(X_principal['P1'], X_principal['P2'],\n",
    "  c = ac6.fit_predict(X_principal), cmap ='rainbow')\n",
    "plt.show()"
   ]
  },
  {
   "cell_type": "code",
   "execution_count": null,
   "id": "116764c4",
   "metadata": {},
   "outputs": [],
   "source": [
    "#Step 7: Evaluating the different models and Visualizing the results.\n",
    "k = [2, 3, 4, 5, 6]\n",
    "# Appending the silhouette scores of the different models to the list\n",
    "silhouette_scores = []\n",
    "silhouette_scores.append(\n",
    "silhouette_score(X_principal, ac2.fit_predict(X_principal)))\n",
    "silhouette_scores.append(\n",
    "silhouette_score(X_principal, ac3.fit_predict(X_principal)))\n",
    "silhouette_scores.append(\n",
    "silhouette_score(X_principal, ac4.fit_predict(X_principal))) \n",
    "silhouette_scores.append(\n",
    "silhouette_score(X_principal, ac5.fit_predict(X_principal))) \n",
    "silhouette_scores.append(\n",
    "silhouette_score(X_principal, ac6.fit_predict(X_principal)))\n",
    "# Plotting a bar graph to compare the results\n",
    "plt.bar(k, silhouette_scores)\n",
    "plt.xlabel('Number of clusters', fontsize = 20)\n",
    "plt.ylabel('S(i)', fontsize = 20)\n",
    "plt.show()"
   ]
  },
  {
   "cell_type": "code",
   "execution_count": null,
   "id": "b83ea6b9",
   "metadata": {},
   "outputs": [],
   "source": []
  }
 ],
 "metadata": {
  "kernelspec": {
   "display_name": "Python 3 (ipykernel)",
   "language": "python",
   "name": "python3"
  },
  "language_info": {
   "codemirror_mode": {
    "name": "ipython",
    "version": 3
   },
   "file_extension": ".py",
   "mimetype": "text/x-python",
   "name": "python",
   "nbconvert_exporter": "python",
   "pygments_lexer": "ipython3",
   "version": "3.8.8"
  }
 },
 "nbformat": 4,
 "nbformat_minor": 5
}
