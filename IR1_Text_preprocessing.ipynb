{
 "cells": [
  {
   "cell_type": "code",
   "execution_count": 1,
   "metadata": {
    "id": "G8dbHG5fr8L9"
   },
   "outputs": [],
   "source": [
    "import nltk"
   ]
  },
  {
   "cell_type": "code",
   "execution_count": 2,
   "metadata": {
    "id": "LoFawazIr927"
   },
   "outputs": [],
   "source": [
    "from nltk.corpus import stopwords"
   ]
  },
  {
   "cell_type": "code",
   "execution_count": 3,
   "metadata": {
    "id": "6pxxbHVdsPvb"
   },
   "outputs": [],
   "source": [
    "from nltk.tokenize import word_tokenize"
   ]
  },
  {
   "cell_type": "code",
   "execution_count": 4,
   "metadata": {
    "id": "_Af4fmfksilM"
   },
   "outputs": [],
   "source": [
    "from nltk.stem import PorterStemmer"
   ]
  },
  {
   "cell_type": "code",
   "execution_count": 5,
   "metadata": {
    "colab": {
     "base_uri": "https://localhost:8080/"
    },
    "id": "aQO2pmWNspge",
    "outputId": "c4eb5052-1ac5-4dde-c5a3-e0fe44298ef3"
   },
   "outputs": [
    {
     "name": "stderr",
     "output_type": "stream",
     "text": [
      "[nltk_data] Downloading package stopwords to /root/nltk_data...\n",
      "[nltk_data]   Unzipping corpora/stopwords.zip.\n"
     ]
    },
    {
     "data": {
      "text/plain": [
       "True"
      ]
     },
     "execution_count": 5,
     "metadata": {},
     "output_type": "execute_result"
    }
   ],
   "source": [
    "nltk.download('stopwords')"
   ]
  },
  {
   "cell_type": "code",
   "execution_count": 6,
   "metadata": {
    "colab": {
     "base_uri": "https://localhost:8080/"
    },
    "id": "h27hJyMStI7n",
    "outputId": "2e6eb4bb-f50c-4b5e-b039-f83dc155208a"
   },
   "outputs": [
    {
     "name": "stderr",
     "output_type": "stream",
     "text": [
      "[nltk_data] Downloading package punkt to /root/nltk_data...\n",
      "[nltk_data]   Unzipping tokenizers/punkt.zip.\n"
     ]
    },
    {
     "data": {
      "text/plain": [
       "True"
      ]
     },
     "execution_count": 6,
     "metadata": {},
     "output_type": "execute_result"
    }
   ],
   "source": [
    "nltk.download('punkt')"
   ]
  },
  {
   "cell_type": "code",
   "execution_count": null,
   "metadata": {
    "id": "JslleYnptTa7"
   },
   "outputs": [],
   "source": [
    "def preprocess(input_text):\n",
    "  tokens = word_tokenize(input_text)           #tokens variable banke usme words ayeneg matlab tokens ayenge\n",
    "  new_tokens = []                           #isme jo word milnege vo bas words hone with pure alohabet no speacial charchter\n",
    "  for word in tokens:\n",
    "    if word.isalpha():\n",
    "        new_tokens.append(word.lower())\n",
    "  #abhi stop words remove krne ka logic\n",
    "  new_words = []\n",
    "  stop_words = list(stopwords.words('english'))\n",
    "  for word in new_tokens:\n",
    "    if word not in stop_words:\n",
    "      new_words.append(word)\n",
    "\n",
    "\n",
    "  #stemming\n",
    "  stemmed_words = []\n",
    "  stemmer = PorterStemmer()\n",
    "  for word in new_words:\n",
    "    stem = stemmer.stem(word)\n",
    "    stemmed_words.append(stem)\n",
    "\n",
    "\n",
    "  cleaned_text = ' '.join(stemmed_words)\n",
    "\n",
    "  return cleaned_text"
   ]
  },
  {
   "cell_type": "code",
   "execution_count": null,
   "metadata": {
    "colab": {
     "base_uri": "https://localhost:8080/"
    },
    "id": "If0kv5Sktlx-",
    "outputId": "d83b3da7-ac2a-4a0a-cbea-2bd75cf16e3b"
   },
   "outputs": [],
   "source": [
    "input_text = input()"
   ]
  },
  {
   "cell_type": "code",
   "execution_count": 30,
   "metadata": {
    "colab": {
     "base_uri": "https://localhost:8080/"
    },
    "id": "6rReSvDZttzR",
    "outputId": "3c063ce7-5b19-4ca7-8556-d281fa06c83b"
   },
   "outputs": [
    {
     "name": "stdout",
     "output_type": "stream",
     "text": [
      "boy girl babi cri\n"
     ]
    }
   ],
   "source": [
    "cleaned_text = preprocess(input_text)\n",
    "print(cleaned_text)"
   ]
  }
 ],
 "metadata": {
  "colab": {
   "provenance": []
  },
  "kernelspec": {
   "display_name": "Python 3 (ipykernel)",
   "language": "python",
   "name": "python3"
  },
  "language_info": {
   "codemirror_mode": {
    "name": "ipython",
    "version": 3
   },
   "file_extension": ".py",
   "mimetype": "text/x-python",
   "name": "python",
   "nbconvert_exporter": "python",
   "pygments_lexer": "ipython3",
   "version": "3.8.8"
  }
 },
 "nbformat": 4,
 "nbformat_minor": 1
}
