{
 "cells": [
  {
   "cell_type": "code",
   "execution_count": 1,
   "metadata": {
    "id": "mQGqCFVWXRb0"
   },
   "outputs": [],
   "source": [
    "document_1 = 'my name is snehal'\n",
    "document_2 = 'her college name is dypatil college of engineering snehal'"
   ]
  },
  {
   "cell_type": "code",
   "execution_count": 2,
   "metadata": {
    "id": "C3-ePzsdc434"
   },
   "outputs": [],
   "source": [
    "token_1 = document_1.lower().split() #list of words of doc_1\n",
    "token_2 = document_2.lower().split()  # list of word of doc_2"
   ]
  },
  {
   "cell_type": "code",
   "execution_count": 3,
   "metadata": {
    "id": "zv3rZYOCdYRy"
   },
   "outputs": [],
   "source": [
    "merge_tokens = list(set(token_1 + token_2)) #unique term alet"
   ]
  },
  {
   "cell_type": "code",
   "execution_count": 4,
   "metadata": {
    "id": "Z6reUIQWeuBC"
   },
   "outputs": [],
   "source": [
    "inverted_index = {}  #usme humne values + words chiye he(ex = terms+page no.)"
   ]
  },
  {
   "cell_type": "code",
   "execution_count": 5,
   "metadata": {
    "id": "zoqtVcrYe5vF"
   },
   "outputs": [],
   "source": [
    "for token in merge_tokens:\n",
    "  documents = []\n",
    "  if token in token_1:\n",
    "    documents.append('document_1')\n",
    "  if token in token_2:\n",
    "    documents.append('document_2')\n",
    "\n",
    "  inverted_index[token] = documents"
   ]
  },
  {
   "cell_type": "code",
   "execution_count": 6,
   "metadata": {
    "colab": {
     "base_uri": "https://localhost:8080/"
    },
    "id": "2-HOxb_qip2R",
    "outputId": "4af76582-acd4-40bc-dce9-6aa44faa5fe3"
   },
   "outputs": [
    {
     "name": "stdout",
     "output_type": "stream",
     "text": [
      "my => ['document_1']\n",
      "college => ['document_2']\n",
      "snehal => ['document_1', 'document_2']\n",
      "of => ['document_2']\n",
      "name => ['document_1', 'document_2']\n",
      "her => ['document_2']\n",
      "is => ['document_1', 'document_2']\n",
      "dypatil => ['document_2']\n",
      "engineering => ['document_2']\n"
     ]
    }
   ],
   "source": [
    "for term,documents in inverted_index.items():\n",
    "  print(term, '=>' ,documents)"
   ]
  },
  {
   "cell_type": "code",
   "execution_count": 23,
   "metadata": {
    "colab": {
     "base_uri": "https://localhost:8080/"
    },
    "id": "qxz2KFeOnXNe",
    "outputId": "cafe11fa-1355-4c28-abf6-56121dc2f2e9"
   },
   "outputs": [
    {
     "name": "stdout",
     "output_type": "stream",
     "text": [
      "is\n"
     ]
    },
    {
     "data": {
      "text/plain": [
       "['document_1', 'document_2']"
      ]
     },
     "execution_count": 23,
     "metadata": {},
     "output_type": "execute_result"
    }
   ],
   "source": [
    "query = input().lower()\n",
    "inverted_index[query]"
   ]
  },
  {
   "cell_type": "code",
   "execution_count": null,
   "metadata": {
    "id": "P2PMf8z-oFUV"
   },
   "outputs": [],
   "source": []
  }
 ],
 "metadata": {
  "colab": {
   "provenance": []
  },
  "kernelspec": {
   "display_name": "Python 3 (ipykernel)",
   "language": "python",
   "name": "python3"
  },
  "language_info": {
   "codemirror_mode": {
    "name": "ipython",
    "version": 3
   },
   "file_extension": ".py",
   "mimetype": "text/x-python",
   "name": "python",
   "nbconvert_exporter": "python",
   "pygments_lexer": "ipython3",
   "version": "3.8.8"
  }
 },
 "nbformat": 4,
 "nbformat_minor": 1
}
